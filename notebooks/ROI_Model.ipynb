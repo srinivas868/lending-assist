{
 "cells": [
  {
   "cell_type": "code",
   "execution_count": null,
   "metadata": {},
   "outputs": [],
   "source": [
    "# NOTE:\n",
    "# NOTE:\n",
    "# NOTE:\n",
    "# NOTE:\n",
    "# NOTE:\n",
    "# NOTE:\n",
    "# NOTE:\n",
    "# NOTE:   This notebook contains but does not use the add_ROI(...) script\n",
    "# NOTE:   The ROI was added to the datasheet outside of the notebook\n",
    "# NOTE:   The processed datasheet is used to train and test the linear regression predictor\n",
    "# NOTE:   The predictor code is in this notebook\n",
    "# NOTE:\n",
    "# NOTE:\n",
    "# NOTE:\n",
    "# NOTE:\n",
    "# NOTE:\n",
    "# NOTE:\n",
    "# NOTE:\n",
    "# NOTE:\n",
    "# NOTE:\n",
    "# NOTE:\n",
    "# NOTE:\n",
    "# NOTE:\n",
    "# NOTE:"
   ]
  },
  {
   "cell_type": "markdown",
   "metadata": {},
   "source": [
    "Explore the loaded data by using the following Apache® Spark DataFrame methods:\n",
    "\n",
    "    print schema\n",
    "    print top ten records\n",
    "    count all records\n",
    "\n"
   ]
  },
  {
   "cell_type": "code",
   "execution_count": null,
   "metadata": {},
   "outputs": [],
   "source": [
    "def add_ROI(data):\n",
    "    print('starting to add_roi')\n",
    "    TIME_VAL_OF_MONEY = 1.05\n",
    "    new_row = []\n",
    "    #data = data.dropna(axis=0, how='any', subset=['term', 'total_pymnt', 'loan_amnt'])\n",
    "\n",
    "    #data['term'] = data['term'].map(lambda x: int(x.split('months')[0]))\n",
    "                                    #     data.head()\n",
    "    for i, row in data.iterrows():  # change this to whatever you name the datasheet\n",
    "        print(row)\n",
    "        if i % 10000 == 0:\n",
    "            print('i added_ROI to:', i)\n",
    "        term_limit = data[\"term\"][i]  # number of months this takes\n",
    "        amount_paid = float(data['total_pymnt'][i])  # amount paid by borrower\n",
    "        total_val = 0\n",
    "        amount_paid_per_month = float(amount_paid) / term_limit\n",
    "        \n",
    "        for j in range(0, term_limit):\n",
    "            years_from_end = (term_limit - j) / 12.0\n",
    "            time_adjusted_val = amount_paid_per_month * (\n",
    "                        TIME_VAL_OF_MONEY ** years_from_end)  # amount paid increases exponentially at a rate of TIME_VAL_OF_MONEY per year\n",
    "            total_val += time_adjusted_val\n",
    "        initial_investment = data['loan_amnt'][i]\n",
    "        total_gain = total_val / initial_investment\n",
    "        ROI = total_gain ** (1 / (term_limit / 12))  # nth root of percentage gained, where n = years of loan\n",
    "        new_row.append(ROI)\n",
    "\n",
    "    data['ROI'] = new_row  # also change this to whatever you name the sheet\n",
    "    return data\n",
    "\n",
    "print(df_data_2['term'])\n",
    "add_ROI(df_data_3)"
   ]
  },
  {
   "cell_type": "code",
   "execution_count": null,
   "metadata": {},
   "outputs": [],
   "source": []
  },
  {
   "cell_type": "code",
   "execution_count": null,
   "metadata": {},
   "outputs": [],
   "source": []
  },
  {
   "cell_type": "markdown",
   "metadata": {},
   "source": [
    "Handling missing values"
   ]
  },
  {
   "cell_type": "code",
   "execution_count": null,
   "metadata": {},
   "outputs": [],
   "source": []
  },
  {
   "cell_type": "code",
   "execution_count": null,
   "metadata": {},
   "outputs": [],
   "source": []
  },
  {
   "cell_type": "code",
   "execution_count": null,
   "metadata": {},
   "outputs": [],
   "source": []
  },
  {
   "cell_type": "code",
   "execution_count": null,
   "metadata": {},
   "outputs": [],
   "source": []
  },
  {
   "cell_type": "code",
   "execution_count": null,
   "metadata": {},
   "outputs": [],
   "source": []
  },
  {
   "cell_type": "code",
   "execution_count": null,
   "metadata": {},
   "outputs": [],
   "source": []
  },
  {
   "cell_type": "markdown",
   "metadata": {},
   "source": [
    "df_data.show()"
   ]
  },
  {
   "cell_type": "code",
   "execution_count": null,
   "metadata": {},
   "outputs": [],
   "source": []
  },
  {
   "cell_type": "code",
   "execution_count": null,
   "metadata": {},
   "outputs": [],
   "source": []
  },
  {
   "cell_type": "code",
   "execution_count": null,
   "metadata": {},
   "outputs": [],
   "source": []
  },
  {
   "cell_type": "code",
   "execution_count": null,
   "metadata": {},
   "outputs": [],
   "source": []
  },
  {
   "cell_type": "code",
   "execution_count": null,
   "metadata": {},
   "outputs": [],
   "source": []
  },
  {
   "cell_type": "code",
   "execution_count": null,
   "metadata": {},
   "outputs": [],
   "source": []
  },
  {
   "cell_type": "code",
   "execution_count": null,
   "metadata": {},
   "outputs": [],
   "source": []
  },
  {
   "cell_type": "code",
   "execution_count": null,
   "metadata": {},
   "outputs": [],
   "source": []
  },
  {
   "cell_type": "code",
   "execution_count": null,
   "metadata": {},
   "outputs": [],
   "source": []
  },
  {
   "cell_type": "code",
   "execution_count": null,
   "metadata": {},
   "outputs": [],
   "source": []
  },
  {
   "cell_type": "markdown",
   "metadata": {},
   "source": [
    "SMOTE to balance the dataset\n",
    "Not focusing here for now. WIll come back to it later\n"
   ]
  },
  {
   "cell_type": "markdown",
   "metadata": {},
   "source": [
    "## Create Apache Spark Machine learning model"
   ]
  },
  {
   "cell_type": "code",
   "execution_count": 10,
   "metadata": {},
   "outputs": [
    {
     "data": {
      "text/plain": [
       "[Row(_c0=0, int_rate=10.65, annual_inc=24000.0, loan_status=1.0, dti=4.8, delinq_2yrs=0.0, label=1.0814847192525776),\n",
       " Row(_c0=1, int_rate=15.96, annual_inc=12252.0, loan_status=1.0, dti=5.105, delinq_2yrs=0.0, label=1.1053443305355617),\n",
       " Row(_c0=2, int_rate=13.49, annual_inc=49200.0, loan_status=1.0, dti=4.92, delinq_2yrs=0.0, label=1.0967721821522236),\n",
       " Row(_c0=3, int_rate=7.9, annual_inc=36000.0, loan_status=1.0, dti=7.2, delinq_2yrs=0.0, label=1.0671683506153882),\n",
       " Row(_c0=4, int_rate=18.64, annual_inc=48000.0, loan_status=1.0, dti=16.0, delinq_2yrs=0.0, label=1.123073490362814)]"
      ]
     },
     "execution_count": 10,
     "metadata": {},
     "output_type": "execute_result"
    }
   ],
   "source": [
    "\n",
    "import ibmos2spark\n",
    "\n",
    "# @hidden_cell\n",
    "credentials = {\n",
    "    'endpoint': 'https://s3-api.us-geo.objectstorage.service.networklayer.com',\n",
    "    'api_key': 'QI0dGMLtvoha7CJ4aYeS3l6YOjWraYA8MMLcWBkQ0Jf2',\n",
    "    'service_id': 'iam-ServiceId-a5dd711d-95a6-40de-972e-2d23e39d5d0c',\n",
    "    'iam_service_endpoint': 'https://iam.ng.bluemix.net/oidc/token'}\n",
    "\n",
    "configuration_name = 'os_d3956d7b54db4946b90a0cd557c288c3_configs'\n",
    "cos = ibmos2spark.CloudObjectStorage(sc, credentials, configuration_name, 'bluemix_cos')\n",
    "\n",
    "from pyspark.sql import SparkSession\n",
    "spark = SparkSession.builder.getOrCreate()\n",
    "df_data_4 = spark.read\\\n",
    "  .format('org.apache.spark.sql.execution.datasources.csv.CSVFileFormat')\\\n",
    "  .option('header', 'true')\\\n",
    "    .option('inferSchema','True')\\\n",
    "  .load(cos.url('25000for_watson.csv', 'lendingclubpractice-donotdelete-pr-qmjuqkyixpbl38'))\n",
    "df_data_4.take(5)\n"
   ]
  },
  {
   "cell_type": "raw",
   "metadata": {},
   "source": []
  },
  {
   "cell_type": "code",
   "execution_count": 119,
   "metadata": {},
   "outputs": [
    {
     "name": "stdout",
     "output_type": "stream",
     "text": [
      "[('_c0', 'int'), ('int_rate', 'double'), ('annual_inc', 'double'), ('loan_status', 'double'), ('dti', 'double'), ('delinq_2yrs', 'double'), ('label', 'double')]\n",
      "DataFrame[int_rate: double, annual_inc: double, dti: double, delinq_2yrs: double, label: double]\n",
      "Number of training records: 12933\n",
      "Number of testing records : 3255\n"
     ]
    }
   ],
   "source": [
    "from pyspark.ml.feature import OneHotEncoder, StringIndexer, IndexToString, VectorAssembler, VectorIndexer\n",
    "from pyspark.ml.classification import RandomForestClassifier\n",
    "from pyspark.ml.evaluation import MulticlassClassificationEvaluator\n",
    "from pyspark.ml import Pipeline, Model\n",
    "\n",
    "df_no_null = df_data_4\n",
    "print(df_no_null.dtypes)\n",
    "df_no_null = df_no_null.drop('_c0')\n",
    "df_no_null = df_no_null.drop('loan_status')\n",
    "split_data = df_no_null.randomSplit([0.8, 0.20], 24)\n",
    "train_data = split_data[0]\n",
    "test_data = split_data[1]\n",
    "\n",
    "\n",
    "print(df_no_null)\n",
    "\n",
    "print (\"Number of training records: \" + str(train_data.count()))\n",
    "print (\"Number of testing records : \" + str(test_data.count()))"
   ]
  },
  {
   "cell_type": "code",
   "execution_count": 120,
   "metadata": {},
   "outputs": [],
   "source": [
    "#stringIndexer_label = StringIndexer(inputCol=\"ROI\", outputCol=\"label\").fit(df_no_null)\n",
    "#stringIndexer_loan_amnt = StringIndexer(inputCol=\"loan_amnt\", outputCol=\"loan_amnt_ix\")\n",
    "#stringIndexer_term = StringIndexer(inputCol=\"term\", outputCol=\"term_ix\")\n",
    "#stringIndexer_int_rate = StringIndexer(inputCol=\"int_rate\", outputCol=\"int_rate_ix\")\n",
    "#stringIndexer_installment = StringIndexer(inputCol=\"installment\", outputCol=\"installment_ix\")\n",
    "#stringIndexer_emp_length = StringIndexer(inputCol=\"emp_length\", outputCol=\"emp_length_ix\")\n",
    "#stringIndexer_annual_inc = StringIndexer(inputCol=\"log_annual_inc\", outputCol=\"log_annual_inc_ix\")\n",
    "#stringIndexer_dti = StringIndexer(inputCol=\"dti\", outputCol=\"dti_ix\")\n",
    "#stringIndexer_fico = StringIndexer(inputCol=\"fico_score\", outputCol=\"fico_score_ix\")\n",
    "#stringIndexer_bankrupt = StringIndexer(inputCol=\"pub_rec_bankruptcies\", outputCol=\"pub_rec_bankruptcies_ix\")\n",
    "\n"
   ]
  },
  {
   "cell_type": "code",
   "execution_count": 121,
   "metadata": {},
   "outputs": [],
   "source": [
    "for_watson = ['int_rate', 'annual_inc', 'dti', 'delinq_2yrs']"
   ]
  },
  {
   "cell_type": "code",
   "execution_count": 122,
   "metadata": {},
   "outputs": [],
   "source": [
    "vectorAssembler_features = VectorAssembler(inputCols=for_watson, outputCol=\"features\")"
   ]
  },
  {
   "cell_type": "code",
   "execution_count": 123,
   "metadata": {},
   "outputs": [
    {
     "name": "stdout",
     "output_type": "stream",
     "text": [
      "+--------+----------+------------------+-----------+------------------+--------------------+\n",
      "|int_rate|annual_inc|               dti|delinq_2yrs|             label|            features|\n",
      "+--------+----------+------------------+-----------+------------------+--------------------+\n",
      "|   10.65|   24000.0|               4.8|        0.0|1.0814847192525776|[10.65,24000.0,4....|\n",
      "|   15.96|   12252.0|             5.105|        0.0|1.1053443305355617|[15.96,12252.0,5....|\n",
      "|   13.49|   49200.0|              4.92|        0.0|1.0967721821522236|[13.49,49200.0,4....|\n",
      "|     7.9|   36000.0|               7.2|        0.0|1.0671683506153882|[7.9,36000.0,7.2,...|\n",
      "|   18.64|   48000.0|              16.0|        0.0| 1.123073490362814|[18.64,48000.0,16...|\n",
      "|   12.69|   75000.0|              6.25|        0.0|1.0783106029851526|[12.69,75000.0,6....|\n",
      "|   13.49|   30000.0|3.3333333333333335|        0.0|0.6481225540561357|[13.49,30000.0,3....|\n",
      "|    9.91|   15000.0|               5.0|        0.0|  1.07761019145083|[9.91,15000.0,5.0...|\n",
      "|   10.65|  100000.0|              10.0|        0.0| 0.930743785706502|[10.65,100000.0,1...|\n",
      "|   16.29|   28000.0|              28.0|        0.0|1.1108074767704128|[16.29,28000.0,28...|\n",
      "|   15.27|   42000.0|               4.2|        0.0|1.1054631650540225|[15.27,42000.0,4....|\n",
      "|    6.03|  110000.0|30.555555555555557|        0.0|1.0429735078102857|[6.03,110000.0,30...|\n",
      "|   11.71|   84000.0|              14.0|        2.0|1.0881687770040958|[11.71,84000.0,14...|\n",
      "|    6.03|  77385.19| 8.411433695652175|        0.0|1.0352658194406672|[6.03,77385.19,8....|\n",
      "|   12.42|  105000.0|               5.0|        0.0|0.8965682840080098|[12.42,105000.0,5...|\n",
      "|   11.71|   50000.0|               5.0|        0.0|1.0870049709396281|[11.71,50000.0,5....|\n",
      "|   11.71|   50000.0|               5.0|        0.0|1.0757392723394714|[11.71,50000.0,5....|\n",
      "|   11.71|   76000.0|12.666666666666666|        0.0|0.7170709700472901|[11.71,76000.0,12...|\n",
      "|    9.91|   92000.0| 6.133333333333334|        0.0| 1.044130941494895|[9.91,92000.0,6.1...|\n",
      "|   14.27|   60000.0|               4.0|        0.0|               0.0|[14.27,60000.0,4....|\n",
      "+--------+----------+------------------+-----------+------------------+--------------------+\n",
      "only showing top 20 rows\n",
      "\n"
     ]
    }
   ],
   "source": [
    "\n",
    "transform_df_pipeline = Pipeline(stages=[\n",
    "                              vectorAssembler_features])\n",
    "transformed_df = transform_df_pipeline.fit(df_no_null).transform(df_no_null)\n",
    "transformed_df = transformed_df.drop('_c0')\n",
    "transformed_df = transformed_df.drop('loan_status')\n",
    "transformed_df.show()"
   ]
  },
  {
   "cell_type": "code",
   "execution_count": 124,
   "metadata": {},
   "outputs": [
    {
     "name": "stdout",
     "output_type": "stream",
     "text": [
      "+--------+----------+------------------+-----------+------------------+--------------------+\n",
      "|int_rate|annual_inc|               dti|delinq_2yrs|             label|            features|\n",
      "+--------+----------+------------------+-----------+------------------+--------------------+\n",
      "|   10.65|   24000.0|               4.8|        0.0|1.0814847192525776|[10.65,24000.0,4....|\n",
      "|   15.96|   12252.0|             5.105|        0.0|1.1053443305355617|[15.96,12252.0,5....|\n",
      "|   13.49|   49200.0|              4.92|        0.0|1.0967721821522236|[13.49,49200.0,4....|\n",
      "|     7.9|   36000.0|               7.2|        0.0|1.0671683506153882|[7.9,36000.0,7.2,...|\n",
      "|   18.64|   48000.0|              16.0|        0.0| 1.123073490362814|[18.64,48000.0,16...|\n",
      "|   12.69|   75000.0|              6.25|        0.0|1.0783106029851526|[12.69,75000.0,6....|\n",
      "|   13.49|   30000.0|3.3333333333333335|        0.0|0.6481225540561357|[13.49,30000.0,3....|\n",
      "|    9.91|   15000.0|               5.0|        0.0|  1.07761019145083|[9.91,15000.0,5.0...|\n",
      "|   10.65|  100000.0|              10.0|        0.0| 0.930743785706502|[10.65,100000.0,1...|\n",
      "|   16.29|   28000.0|              28.0|        0.0|1.1108074767704128|[16.29,28000.0,28...|\n",
      "|   15.27|   42000.0|               4.2|        0.0|1.1054631650540225|[15.27,42000.0,4....|\n",
      "|    6.03|  110000.0|30.555555555555557|        0.0|1.0429735078102857|[6.03,110000.0,30...|\n",
      "|   11.71|   84000.0|              14.0|        2.0|1.0881687770040958|[11.71,84000.0,14...|\n",
      "|    6.03|  77385.19| 8.411433695652175|        0.0|1.0352658194406672|[6.03,77385.19,8....|\n",
      "|   12.42|  105000.0|               5.0|        0.0|0.8965682840080098|[12.42,105000.0,5...|\n",
      "|   11.71|   50000.0|               5.0|        0.0|1.0870049709396281|[11.71,50000.0,5....|\n",
      "|   11.71|   50000.0|               5.0|        0.0|1.0757392723394714|[11.71,50000.0,5....|\n",
      "|   11.71|   76000.0|12.666666666666666|        0.0|0.7170709700472901|[11.71,76000.0,12...|\n",
      "|    9.91|   92000.0| 6.133333333333334|        0.0| 1.044130941494895|[9.91,92000.0,6.1...|\n",
      "|   14.27|   60000.0|               4.0|        0.0|               0.0|[14.27,60000.0,4....|\n",
      "+--------+----------+------------------+-----------+------------------+--------------------+\n",
      "only showing top 20 rows\n",
      "\n"
     ]
    }
   ],
   "source": [
    "from pyspark.ml.regression import LinearRegression\n",
    "\n",
    "lr = LinearRegression(maxIter=1000, regParam=0.001, elasticNetParam=0.25)\n",
    "\n",
    "# Fit the model\n",
    "transformed_df.show()\n",
    "lrModel = lr.fit(transformed_df)\n"
   ]
  },
  {
   "cell_type": "code",
   "execution_count": 125,
   "metadata": {},
   "outputs": [],
   "source": [
    "pipeline_rf = Pipeline(stages=[ vectorAssembler_features, lrModel])"
   ]
  },
  {
   "cell_type": "code",
   "execution_count": 126,
   "metadata": {},
   "outputs": [
    {
     "name": "stdout",
     "output_type": "stream",
     "text": [
      "+--------+----------+------------------+-----------+------------------+\n",
      "|int_rate|annual_inc|               dti|delinq_2yrs|             label|\n",
      "+--------+----------+------------------+-----------+------------------+\n",
      "|    5.42|   14400.0| 2.057142857142857|        0.0| 1.052225767906996|\n",
      "|    5.42|   15600.0|              3.12|        0.0|1.0532674891495548|\n",
      "|    5.42|   16800.0|               5.6|        0.0|1.0575217123036242|\n",
      "|    5.42|   16908.0|             5.636|        0.0|1.0541286715021332|\n",
      "|    5.42|   17760.0| 4.059428571428572|        0.0|1.0344756971899214|\n",
      "|    5.42|   18000.0|               6.0|        0.0|0.9667946153519082|\n",
      "|    5.42|   18000.0|               9.0|        0.0| 1.054168406822798|\n",
      "|    5.42|   18700.0|12.466666666666667|        0.0|1.0541098981667771|\n",
      "|    5.42|   19008.0|             1.584|        0.0|1.0541907940614834|\n",
      "|    5.42|   20000.0|2.8469750889679717|        0.0|1.0541312966520637|\n",
      "+--------+----------+------------------+-----------+------------------+\n",
      "only showing top 10 rows\n",
      "\n"
     ]
    }
   ],
   "source": [
    "train_data.show(10)\n",
    "model_rf = pipeline_rf.fit(train_data)\n"
   ]
  },
  {
   "cell_type": "code",
   "execution_count": 127,
   "metadata": {},
   "outputs": [
    {
     "name": "stdout",
     "output_type": "stream",
     "text": [
      "[Row(int_rate=5.42, annual_inc=14400.0, dti=2.057142857142857, delinq_2yrs=0.0, label=1.052225767906996)]\n"
     ]
    }
   ],
   "source": [
    "print(train_data.take(1))"
   ]
  },
  {
   "cell_type": "code",
   "execution_count": 128,
   "metadata": {},
   "outputs": [
    {
     "name": "stdout",
     "output_type": "stream",
     "text": [
      "[Row(int_rate=5.42, annual_inc=12600.0, dti=6.3, delinq_2yrs=0.0, label=0.5796757598713377, features=DenseVector([5.42, 12600.0, 6.3, 0.0]), prediction=1.0289396094968732), Row(int_rate=5.42, annual_inc=16000.0, dti=2.1993127147766325, delinq_2yrs=0.0, label=1.054149268019098, features=DenseVector([5.42, 16000.0, 2.1993, 0.0]), prediction=1.0299643137671102), Row(int_rate=5.42, annual_inc=20160.0, dti=3.8037735849056604, delinq_2yrs=0.0, label=1.054180040773623, features=DenseVector([5.42, 20160.0, 3.8038, 0.0]), prediction=1.0303144211132678), Row(int_rate=5.42, annual_inc=21000.0, dti=5.0, delinq_2yrs=0.0, label=1.0327813837165414, features=DenseVector([5.42, 21000.0, 5.0, 0.0]), prediction=1.0302660833483124), Row(int_rate=5.42, annual_inc=22296.0, dti=4.128888888888889, delinq_2yrs=0.0, label=1.0513140588222238, features=DenseVector([5.42, 22296.0, 4.1289, 0.0]), prediction=1.0305622453522312)]\n",
      "R Squared (R2) on test data = 0.00722128\n"
     ]
    }
   ],
   "source": [
    "from pyspark.ml.evaluation import RegressionEvaluator\n",
    "\n",
    "predictions = model_rf.transform(test_data)\n",
    "lr_evaluator = RegressionEvaluator(predictionCol=\"prediction\", \\\n",
    "                 labelCol=\"label\",metricName=\"r2\")\n",
    "print(predictions.take(5))\n",
    "print(\"R Squared (R2) on test data = %g\" % lr_evaluator.evaluate(predictions))\n"
   ]
  },
  {
   "cell_type": "code",
   "execution_count": null,
   "metadata": {},
   "outputs": [],
   "source": []
  },
  {
   "cell_type": "code",
   "execution_count": 129,
   "metadata": {},
   "outputs": [],
   "source": [
    "#featureIndexer = VectorIndexer(inputCol=\"features\", outputCol=\"indexedterm\", maxCategories=10).fit(df_no_null)"
   ]
  },
  {
   "cell_type": "code",
   "execution_count": null,
   "metadata": {
    "scrolled": true
   },
   "outputs": [],
   "source": []
  },
  {
   "cell_type": "code",
   "execution_count": 130,
   "metadata": {},
   "outputs": [
    {
     "name": "stdout",
     "output_type": "stream",
     "text": [
      "+--------+----------+------------------+-----------+------------------+--------------------+\n",
      "|int_rate|annual_inc|               dti|delinq_2yrs|             label|            features|\n",
      "+--------+----------+------------------+-----------+------------------+--------------------+\n",
      "|   10.65|   24000.0|               4.8|        0.0|1.0814847192525776|[10.65,24000.0,4....|\n",
      "|   15.96|   12252.0|             5.105|        0.0|1.1053443305355617|[15.96,12252.0,5....|\n",
      "|   13.49|   49200.0|              4.92|        0.0|1.0967721821522236|[13.49,49200.0,4....|\n",
      "|     7.9|   36000.0|               7.2|        0.0|1.0671683506153882|[7.9,36000.0,7.2,...|\n",
      "|   18.64|   48000.0|              16.0|        0.0| 1.123073490362814|[18.64,48000.0,16...|\n",
      "|   12.69|   75000.0|              6.25|        0.0|1.0783106029851526|[12.69,75000.0,6....|\n",
      "|   13.49|   30000.0|3.3333333333333335|        0.0|0.6481225540561357|[13.49,30000.0,3....|\n",
      "|    9.91|   15000.0|               5.0|        0.0|  1.07761019145083|[9.91,15000.0,5.0...|\n",
      "|   10.65|  100000.0|              10.0|        0.0| 0.930743785706502|[10.65,100000.0,1...|\n",
      "|   16.29|   28000.0|              28.0|        0.0|1.1108074767704128|[16.29,28000.0,28...|\n",
      "|   15.27|   42000.0|               4.2|        0.0|1.1054631650540225|[15.27,42000.0,4....|\n",
      "|    6.03|  110000.0|30.555555555555557|        0.0|1.0429735078102857|[6.03,110000.0,30...|\n",
      "|   11.71|   84000.0|              14.0|        2.0|1.0881687770040958|[11.71,84000.0,14...|\n",
      "|    6.03|  77385.19| 8.411433695652175|        0.0|1.0352658194406672|[6.03,77385.19,8....|\n",
      "|   12.42|  105000.0|               5.0|        0.0|0.8965682840080098|[12.42,105000.0,5...|\n",
      "|   11.71|   50000.0|               5.0|        0.0|1.0870049709396281|[11.71,50000.0,5....|\n",
      "|   11.71|   50000.0|               5.0|        0.0|1.0757392723394714|[11.71,50000.0,5....|\n",
      "|   11.71|   76000.0|12.666666666666666|        0.0|0.7170709700472901|[11.71,76000.0,12...|\n",
      "|    9.91|   92000.0| 6.133333333333334|        0.0| 1.044130941494895|[9.91,92000.0,6.1...|\n",
      "|   14.27|   60000.0|               4.0|        0.0|               0.0|[14.27,60000.0,4....|\n",
      "+--------+----------+------------------+-----------+------------------+--------------------+\n",
      "only showing top 20 rows\n",
      "\n"
     ]
    }
   ],
   "source": [
    "transform_df_pipeline = Pipeline(stages=[\n",
    "                              vectorAssembler_features])\n",
    "transformed_df = transform_df_pipeline.fit(df_no_null).transform(df_no_null)\n",
    "transformed_df = transformed_df.drop('_c0')\n",
    "\n",
    "transformed_df.show()\n",
    "\n"
   ]
  },
  {
   "cell_type": "code",
   "execution_count": null,
   "metadata": {},
   "outputs": [],
   "source": []
  },
  {
   "cell_type": "code",
   "execution_count": 131,
   "metadata": {},
   "outputs": [
    {
     "data": {
      "text/plain": [
       "Pipeline_4a088ee13192da13420d"
      ]
     },
     "execution_count": 131,
     "metadata": {},
     "output_type": "execute_result"
    }
   ],
   "source": [
    "pipeline_rf\n"
   ]
  },
  {
   "cell_type": "code",
   "execution_count": 132,
   "metadata": {},
   "outputs": [],
   "source": [
    "#Ignore this cell\n",
    "\n",
    "# from pyspark.mllib.tree import RandomForest\n",
    "# model = RandomForest.trainClassifier(train_data, numClasses=2, categoricalFeaturesInfo={}, \\\n",
    "#     numTrees=3, featureSubsetStrategy=\"auto\", impurity=\"gini\", \\\n",
    "#     maxDepth=4, maxBins=32, seed=13579)"
   ]
  },
  {
   "cell_type": "code",
   "execution_count": 133,
   "metadata": {},
   "outputs": [],
   "source": [
    "model_rf = pipeline_rf.fit(train_data)\n"
   ]
  },
  {
   "cell_type": "code",
   "execution_count": 134,
   "metadata": {},
   "outputs": [
    {
     "name": "stdout",
     "output_type": "stream",
     "text": [
      "DataFrame[int_rate: double, annual_inc: double, dti: double, delinq_2yrs: double, label: double, features: vector, prediction: double]\n",
      "+--------+----------+------------------+-----------+------------------+--------------------+------------------+\n",
      "|int_rate|annual_inc|               dti|delinq_2yrs|             label|            features|        prediction|\n",
      "+--------+----------+------------------+-----------+------------------+--------------------+------------------+\n",
      "|    5.42|   12600.0|               6.3|        0.0|0.5796757598713377|[5.42,12600.0,6.3...|1.0289396094968732|\n",
      "|    5.42|   16000.0|2.1993127147766325|        0.0| 1.054149268019098|[5.42,16000.0,2.1...|1.0299643137671102|\n",
      "|    5.42|   20160.0|3.8037735849056604|        0.0| 1.054180040773623|[5.42,20160.0,3.8...|1.0303144211132678|\n",
      "|    5.42|   21000.0|               5.0|        0.0|1.0327813837165414|[5.42,21000.0,5.0...|1.0302660833483124|\n",
      "|    5.42|   22296.0| 4.128888888888889|        0.0|1.0513140588222238|[5.42,22296.0,4.1...|1.0305622453522312|\n",
      "|    5.42|   24960.0|              6.24|        0.0|1.0541345869107874|[5.42,24960.0,6.2...|1.0306385685486625|\n",
      "|    5.42|   26940.0|            10.776|        0.0|1.0541170964750304|[5.42,26940.0,10....|1.0302904093003122|\n",
      "|    5.42|   27840.0|              11.6|        0.0|1.0541143885695916|[5.42,27840.0,11....|1.0303010755062465|\n",
      "|    5.42|   30000.0| 4.633204633204633|        0.0|1.0513114503806045|[5.42,30000.0,4.6...|1.0315472825256056|\n",
      "|    5.42|   30000.0|  9.23076923076923|        0.0|1.0541192309999121|[5.42,30000.0,9.2...|1.0309198701099636|\n",
      "|    5.42|   31000.0|               6.2|        0.0|1.0413267027425865|[5.42,31000.0,6.2...|1.0314702616083926|\n",
      "|    5.42|   31200.0|2.7857142857142856|        0.0| 1.054163689775831|[5.42,31200.0,2.7...|1.0319635551433268|\n",
      "|    5.42|   35000.0| 5.833333333333333|        1.0|1.0364648281150945|[5.42,35000.0,5.8...|1.0313525723456285|\n",
      "|    5.42|   36000.0|               3.0|        0.0|0.9217124354947691|[5.42,36000.0,3.0...|1.0325909225015575|\n",
      "|    5.42|   36000.0| 3.272727272727273|        0.0| 1.049979725723604|[5.42,36000.0,3.2...|1.0325537044324338|\n",
      "|    5.42|   36000.0|               5.0|        0.0|1.0539045382519832|[5.42,36000.0,5.0...|1.0323179899946497|\n",
      "|    5.42|   36000.0|               9.0|        0.0| 1.053686320380396|[5.42,36000.0,9.0...| 1.031772124980834|\n",
      "|    5.42|   36000.0|11.707317073170731|        0.0|1.0541898449092317|[5.42,36000.0,11....|1.0314026675629469|\n",
      "|    5.42|   36000.0|              30.0|        0.0| 1.051038871348782|[5.42,36000.0,30....|1.0289063336583024|\n",
      "|    5.42|   37500.0| 8.333333333333334|        0.0|1.0539484398475023|[5.42,37500.0,8.3...|1.0320682931477705|\n",
      "+--------+----------+------------------+-----------+------------------+--------------------+------------------+\n",
      "only showing top 20 rows\n",
      "\n",
      "None\n"
     ]
    }
   ],
   "source": [
    "predictions = model_rf.transform(test_data)\n",
    "predictions = predictions.drop('_c0')\n",
    "\n",
    "print(predictions)\n",
    "evaluatorRF = MulticlassClassificationEvaluator(labelCol=\"label\", predictionCol=\"prediction\", metricName=\"accuracy\")\n",
    "accuracy = evaluatorRF.evaluate(predictions)\n",
    "print(predictions.show())\n",
    "\n"
   ]
  },
  {
   "cell_type": "markdown",
   "metadata": {},
   "source": [
    "### Persist created model with watson-machine-learning-client"
   ]
  },
  {
   "cell_type": "code",
   "execution_count": 135,
   "metadata": {},
   "outputs": [
    {
     "name": "stdout",
     "output_type": "stream",
     "text": [
      "Requirement already up-to-date: watson-machine-learning-client in /gpfs/global_fs01/sym_shared/YPProdSpark/user/sdc3-31c6da65b79b47-718a49cedf78/.local/lib/python3.5/site-packages\n",
      "Requirement already up-to-date: tqdm in /gpfs/global_fs01/sym_shared/YPProdSpark/user/sdc3-31c6da65b79b47-718a49cedf78/.local/lib/python3.5/site-packages (from watson-machine-learning-client)\n",
      "Requirement already up-to-date: tabulate in /usr/local/src/conda3_runtime.v38/home/envs/DSX-Python35-Spark/lib/python3.5/site-packages (from watson-machine-learning-client)\n",
      "Requirement already up-to-date: urllib3 in /gpfs/global_fs01/sym_shared/YPProdSpark/user/sdc3-31c6da65b79b47-718a49cedf78/.local/lib/python3.5/site-packages (from watson-machine-learning-client)\n",
      "Requirement already up-to-date: certifi in /gpfs/global_fs01/sym_shared/YPProdSpark/user/sdc3-31c6da65b79b47-718a49cedf78/.local/lib/python3.5/site-packages (from watson-machine-learning-client)\n",
      "Requirement already up-to-date: pandas in /gpfs/global_fs01/sym_shared/YPProdSpark/user/sdc3-31c6da65b79b47-718a49cedf78/.local/lib/python3.5/site-packages (from watson-machine-learning-client)\n",
      "Requirement already up-to-date: lomond in /gpfs/global_fs01/sym_shared/YPProdSpark/user/sdc3-31c6da65b79b47-718a49cedf78/.local/lib/python3.5/site-packages (from watson-machine-learning-client)\n",
      "Requirement already up-to-date: ibm-cos-sdk in /gpfs/global_fs01/sym_shared/YPProdSpark/user/sdc3-31c6da65b79b47-718a49cedf78/.local/lib/python3.5/site-packages (from watson-machine-learning-client)\n",
      "Requirement already up-to-date: requests in /gpfs/global_fs01/sym_shared/YPProdSpark/user/sdc3-31c6da65b79b47-718a49cedf78/.local/lib/python3.5/site-packages (from watson-machine-learning-client)\n",
      "Requirement already up-to-date: pytz>=2011k in /gpfs/global_fs01/sym_shared/YPProdSpark/user/sdc3-31c6da65b79b47-718a49cedf78/.local/lib/python3.5/site-packages (from pandas->watson-machine-learning-client)\n",
      "Requirement already up-to-date: numpy>=1.9.0 in /gpfs/global_fs01/sym_shared/YPProdSpark/user/sdc3-31c6da65b79b47-718a49cedf78/.local/lib/python3.5/site-packages (from pandas->watson-machine-learning-client)\n",
      "Requirement already up-to-date: python-dateutil>=2.5.0 in /gpfs/global_fs01/sym_shared/YPProdSpark/user/sdc3-31c6da65b79b47-718a49cedf78/.local/lib/python3.5/site-packages (from pandas->watson-machine-learning-client)\n",
      "Requirement already up-to-date: six>=1.10.0 in /usr/local/src/conda3_runtime.v38/home/envs/DSX-Python35-Spark/lib/python3.5/site-packages (from lomond->watson-machine-learning-client)\n",
      "Requirement already up-to-date: ibm-cos-sdk-core==2.*,>=2.0.0 in /gpfs/global_fs01/sym_shared/YPProdSpark/user/sdc3-31c6da65b79b47-718a49cedf78/.local/lib/python3.5/site-packages (from ibm-cos-sdk->watson-machine-learning-client)\n",
      "Requirement already up-to-date: ibm-cos-sdk-s3transfer==2.*,>=2.0.0 in /gpfs/global_fs01/sym_shared/YPProdSpark/user/sdc3-31c6da65b79b47-718a49cedf78/.local/lib/python3.5/site-packages (from ibm-cos-sdk->watson-machine-learning-client)\n",
      "Requirement already up-to-date: chardet<3.1.0,>=3.0.2 in /usr/local/src/conda3_runtime.v38/home/envs/DSX-Python35-Spark/lib/python3.5/site-packages (from requests->watson-machine-learning-client)\n",
      "Requirement already up-to-date: idna<2.8,>=2.5 in /gpfs/global_fs01/sym_shared/YPProdSpark/user/sdc3-31c6da65b79b47-718a49cedf78/.local/lib/python3.5/site-packages (from requests->watson-machine-learning-client)\n",
      "Requirement already up-to-date: docutils>=0.10 in /usr/local/src/conda3_runtime.v38/home/envs/DSX-Python35-Spark/lib/python3.5/site-packages (from ibm-cos-sdk-core==2.*,>=2.0.0->ibm-cos-sdk->watson-machine-learning-client)\n",
      "Requirement already up-to-date: jmespath<1.0.0,>=0.7.1 in /usr/local/src/conda3_runtime.v38/home/envs/DSX-Python35-Spark/lib/python3.5/site-packages (from ibm-cos-sdk-core==2.*,>=2.0.0->ibm-cos-sdk->watson-machine-learning-client)\n"
     ]
    }
   ],
   "source": [
    "!pip install watson-machine-learning-client --upgrade"
   ]
  },
  {
   "cell_type": "code",
   "execution_count": 136,
   "metadata": {},
   "outputs": [],
   "source": [
    "from watson_machine_learning_client import WatsonMachineLearningAPIClient"
   ]
  },
  {
   "cell_type": "code",
   "execution_count": 137,
   "metadata": {},
   "outputs": [],
   "source": [
    "wml_credentials={\n",
    "  \"username\": \"191a4d7e-10c4-456c-a6e7-8b35cf7fe71d\",\n",
    "  \"password\": \"1de592a3-9d65-4458-8876-c5b310df37a7\",\n",
    "  \"instance_id\": \"c549e573-c841-4eea-85be-764ef356f92c\",\n",
    "  \"url\": \"https://ibm-watson-ml.mybluemix.net\"\n",
    "}"
   ]
  },
  {
   "cell_type": "code",
   "execution_count": 138,
   "metadata": {},
   "outputs": [],
   "source": [
    "client = WatsonMachineLearningAPIClient(wml_credentials)\n"
   ]
  },
  {
   "cell_type": "code",
   "execution_count": 139,
   "metadata": {},
   "outputs": [
    {
     "name": "stdout",
     "output_type": "stream",
     "text": [
      "{\n",
      "  \"metadata\": {\n",
      "    \"created_at\": \"2018-06-05T15:44:20.699Z\",\n",
      "    \"url\": \"https://ibm-watson-ml.mybluemix.net/v3/wml_instances/c549e573-c841-4eea-85be-764ef356f92c\",\n",
      "    \"modified_at\": \"2018-07-31T15:37:21.908Z\",\n",
      "    \"guid\": \"c549e573-c841-4eea-85be-764ef356f92c\"\n",
      "  },\n",
      "  \"entity\": {\n",
      "    \"region\": \"us-south\",\n",
      "    \"account\": {\n",
      "      \"id\": \"500507492\",\n",
      "      \"type\": \"PAYG\",\n",
      "      \"name\": \"\"\n",
      "    },\n",
      "    \"deployments\": {\n",
      "      \"url\": \"https://us-south.ml.cloud.ibm.com/v3/wml_instances/c549e573-c841-4eea-85be-764ef356f92c/deployments\"\n",
      "    },\n",
      "    \"source\": \"Bluemix\",\n",
      "    \"status\": \"Active\",\n",
      "    \"plan_id\": \"3f6acf43-ede8-413a-ac69-f8af3bb0cbfe\",\n",
      "    \"published_models\": {\n",
      "      \"url\": \"https://us-south.ml.cloud.ibm.com/v3/wml_instances/c549e573-c841-4eea-85be-764ef356f92c/published_models\"\n",
      "    },\n",
      "    \"organization_guid\": \"f71f2ab7-9571-469a-8af3-3d618275e667\",\n",
      "    \"plan\": \"lite\",\n",
      "    \"space_guid\": \"ed811b8a-f0ae-4c4b-a047-718a49cedf78\",\n",
      "    \"usage\": {\n",
      "      \"capacity_units\": {\n",
      "        \"current\": 420069,\n",
      "        \"limit\": 180000000\n",
      "      },\n",
      "      \"expiration_date\": \"2018-08-01T00:00:00.000Z\",\n",
      "      \"model_count\": {\n",
      "        \"current\": 5,\n",
      "        \"limit\": 200\n",
      "      },\n",
      "      \"deployment_count\": {\n",
      "        \"current\": 8,\n",
      "        \"limit\": 5\n",
      "      },\n",
      "      \"computation_time\": {\n",
      "        \"current\": 420,\n",
      "        \"limit\": 180000\n",
      "      },\n",
      "      \"prediction_count\": {\n",
      "        \"current\": 69,\n",
      "        \"limit\": 5000\n",
      "      },\n",
      "      \"gpu_count\": {\n",
      "        \"current\": 0,\n",
      "        \"limit\": 8\n",
      "      }\n",
      "    },\n",
      "    \"owner\": {\n",
      "      \"country_code\": \"USA\",\n",
      "      \"ibm_id\": \"060000CVME\",\n",
      "      \"beta_user\": false,\n",
      "      \"user_id\": \"49944ac3-c3a1-4556-a7c2-cddb993a0c29\",\n",
      "      \"email\": \"\"\n",
      "    }\n",
      "  }\n",
      "}\n"
     ]
    }
   ],
   "source": [
    "import json\n",
    "instance_details = client.service_instance.get_details()\n",
    "\n",
    "print(json.dumps(instance_details, indent=2))"
   ]
  },
  {
   "cell_type": "code",
   "execution_count": 140,
   "metadata": {},
   "outputs": [],
   "source": [
    "model_props = {client.repository.ModelMetaNames.AUTHOR_NAME: \"IBM\", \n",
    "               client.repository.ModelMetaNames.AUTHOR_EMAIL: \"ibm@ibm.com\", \n",
    "               client.repository.ModelMetaNames.NAME: \"ROI\"}\n",
    "published_model = client.repository.store_model(model=model_rf, pipeline=pipeline_rf, meta_props=model_props, training_data=train_data)\n",
    "\n"
   ]
  },
  {
   "cell_type": "code",
   "execution_count": 141,
   "metadata": {},
   "outputs": [
    {
     "name": "stdout",
     "output_type": "stream",
     "text": [
      "{\n",
      "  \"metadata\": {\n",
      "    \"created_at\": \"2018-07-31T15:38:03.604Z\",\n",
      "    \"url\": \"https://us-south.ml.cloud.ibm.com/v3/wml_instances/c549e573-c841-4eea-85be-764ef356f92c/published_models/cd475fd9-e511-4510-8bc8-c65771774ba6\",\n",
      "    \"modified_at\": \"2018-07-31T15:38:03.659Z\",\n",
      "    \"guid\": \"cd475fd9-e511-4510-8bc8-c65771774ba6\"\n",
      "  },\n",
      "  \"entity\": {\n",
      "    \"latest_version\": {\n",
      "      \"created_at\": \"2018-07-31T15:38:03.659Z\",\n",
      "      \"url\": \"https://us-south.ml.cloud.ibm.com/v3/ml_assets/models/cd475fd9-e511-4510-8bc8-c65771774ba6/versions/b3995661-de79-413c-8b75-62c3a0262674\",\n",
      "      \"guid\": \"b3995661-de79-413c-8b75-62c3a0262674\"\n",
      "    },\n",
      "    \"runtime_environment\": \"spark-2.1\",\n",
      "    \"name\": \"ROI\",\n",
      "    \"learning_configuration_url\": \"https://us-south.ml.cloud.ibm.com/v3/wml_instances/c549e573-c841-4eea-85be-764ef356f92c/published_models/cd475fd9-e511-4510-8bc8-c65771774ba6/learning_configuration\",\n",
      "    \"tags\": [],\n",
      "    \"model_type\": \"mllib-2.1\",\n",
      "    \"input_data_schema\": {\n",
      "      \"type\": \"struct\",\n",
      "      \"fields\": [\n",
      "        {\n",
      "          \"metadata\": {},\n",
      "          \"nullable\": true,\n",
      "          \"type\": \"double\",\n",
      "          \"name\": \"int_rate\"\n",
      "        },\n",
      "        {\n",
      "          \"metadata\": {},\n",
      "          \"nullable\": true,\n",
      "          \"type\": \"double\",\n",
      "          \"name\": \"annual_inc\"\n",
      "        },\n",
      "        {\n",
      "          \"metadata\": {},\n",
      "          \"nullable\": true,\n",
      "          \"type\": \"double\",\n",
      "          \"name\": \"dti\"\n",
      "        },\n",
      "        {\n",
      "          \"metadata\": {},\n",
      "          \"nullable\": true,\n",
      "          \"type\": \"double\",\n",
      "          \"name\": \"delinq_2yrs\"\n",
      "        }\n",
      "      ]\n",
      "    },\n",
      "    \"feedback_url\": \"https://us-south.ml.cloud.ibm.com/v3/wml_instances/c549e573-c841-4eea-85be-764ef356f92c/published_models/cd475fd9-e511-4510-8bc8-c65771774ba6/feedback\",\n",
      "    \"label_col\": \"label\",\n",
      "    \"deployments\": {\n",
      "      \"url\": \"https://us-south.ml.cloud.ibm.com/v3/wml_instances/c549e573-c841-4eea-85be-764ef356f92c/published_models/cd475fd9-e511-4510-8bc8-c65771774ba6/deployments\",\n",
      "      \"count\": 0\n",
      "    },\n",
      "    \"training_data_schema\": {\n",
      "      \"type\": \"struct\",\n",
      "      \"fields\": [\n",
      "        {\n",
      "          \"metadata\": {},\n",
      "          \"nullable\": true,\n",
      "          \"type\": \"double\",\n",
      "          \"name\": \"int_rate\"\n",
      "        },\n",
      "        {\n",
      "          \"metadata\": {},\n",
      "          \"nullable\": true,\n",
      "          \"type\": \"double\",\n",
      "          \"name\": \"annual_inc\"\n",
      "        },\n",
      "        {\n",
      "          \"metadata\": {},\n",
      "          \"nullable\": true,\n",
      "          \"type\": \"double\",\n",
      "          \"name\": \"dti\"\n",
      "        },\n",
      "        {\n",
      "          \"metadata\": {},\n",
      "          \"nullable\": true,\n",
      "          \"type\": \"double\",\n",
      "          \"name\": \"delinq_2yrs\"\n",
      "        },\n",
      "        {\n",
      "          \"metadata\": {\n",
      "            \"modeling_role\": \"target\"\n",
      "          },\n",
      "          \"nullable\": true,\n",
      "          \"type\": \"double\",\n",
      "          \"name\": \"label\"\n",
      "        }\n",
      "      ]\n",
      "    },\n",
      "    \"learning_iterations_url\": \"https://us-south.ml.cloud.ibm.com/v3/wml_instances/c549e573-c841-4eea-85be-764ef356f92c/published_models/cd475fd9-e511-4510-8bc8-c65771774ba6/learning_iterations\",\n",
      "    \"evaluation_metrics_url\": \"https://us-south.ml.cloud.ibm.com/v3/wml_instances/c549e573-c841-4eea-85be-764ef356f92c/published_models/cd475fd9-e511-4510-8bc8-c65771774ba6/evaluation_metrics\",\n",
      "    \"author\": {\n",
      "      \"name\": \"IBM\"\n",
      "    },\n",
      "    \"output_data_schema\": {\n",
      "      \"type\": \"struct\",\n",
      "      \"fields\": [\n",
      "        {\n",
      "          \"metadata\": {},\n",
      "          \"nullable\": true,\n",
      "          \"type\": \"double\",\n",
      "          \"name\": \"int_rate\"\n",
      "        },\n",
      "        {\n",
      "          \"metadata\": {},\n",
      "          \"nullable\": true,\n",
      "          \"type\": \"double\",\n",
      "          \"name\": \"annual_inc\"\n",
      "        },\n",
      "        {\n",
      "          \"metadata\": {},\n",
      "          \"nullable\": true,\n",
      "          \"type\": \"double\",\n",
      "          \"name\": \"dti\"\n",
      "        },\n",
      "        {\n",
      "          \"metadata\": {},\n",
      "          \"nullable\": true,\n",
      "          \"type\": \"double\",\n",
      "          \"name\": \"delinq_2yrs\"\n",
      "        }\n",
      "      ]\n",
      "    }\n",
      "  }\n",
      "}\n"
     ]
    }
   ],
   "source": [
    "published_model_uid = client.repository.get_model_uid(published_model)\n",
    "model_details = client.repository.get_details(published_model_uid)\n",
    "print(json.dumps(model_details, indent=2))"
   ]
  },
  {
   "cell_type": "code",
   "execution_count": 142,
   "metadata": {},
   "outputs": [
    {
     "name": "stdout",
     "output_type": "stream",
     "text": [
      "------------------------------------  -------------------------------------------------------------  ------------------------  ---------\n",
      "GUID                                  NAME                                                           CREATED                   FRAMEWORK\n",
      "cd475fd9-e511-4510-8bc8-c65771774ba6  ROI                                                            2018-07-31T15:38:03.604Z  mllib-2.1\n",
      "fdec002d-892d-4a24-8667-1ba7255149ba  Lending Assist Risk prediction Random forest model 9 features  2018-07-25T19:22:35.090Z  mllib-2.1\n",
      "30d0ccf7-84be-4365-bbe3-7555908fb917  Heart Failure Prediction Model                                 2018-07-23T14:30:07.786Z  mllib-2.1\n",
      "695bd85a-3134-4fd8-a7db-a301bc76ee58  loan_status                                                    2018-06-28T14:30:14.765Z  wml-1.1\n",
      "039cdc69-dbd3-4eef-93b3-47fb81d2aebb  titanic_survival                                               2018-06-11T19:19:45.115Z  wml-1.1\n",
      "a8b2f7bc-ae4d-41ae-bd44-df8345aefced  Titanic                                                        2018-06-05T15:55:52.907Z  wml-1.1\n",
      "------------------------------------  -------------------------------------------------------------  ------------------------  ---------\n"
     ]
    }
   ],
   "source": [
    "client.repository.list_models()"
   ]
  },
  {
   "cell_type": "code",
   "execution_count": 143,
   "metadata": {},
   "outputs": [],
   "source": [
    "loaded_model = client.repository.load(published_model_uid)"
   ]
  },
  {
   "cell_type": "code",
   "execution_count": 144,
   "metadata": {},
   "outputs": [],
   "source": [
    "test_predictions = loaded_model.transform(test_data)"
   ]
  },
  {
   "cell_type": "code",
   "execution_count": null,
   "metadata": {},
   "outputs": [],
   "source": []
  },
  {
   "cell_type": "code",
   "execution_count": 118,
   "metadata": {},
   "outputs": [
    {
     "name": "stdout",
     "output_type": "stream",
     "text": [
      "{\"trace\":\"3504868927\",\"errors\":[{\"code\":\"deployments_plan_limit_reached\",\"message\":\"Current plan 'lite' only allows 5 deployments\"}]}\n",
      "\n",
      "\n",
      "--------------------------\n",
      "Deployment creation failed\n",
      "--------------------------\n",
      "\n",
      "\n"
     ]
    },
    {
     "ename": "WMLClientError",
     "evalue": "Deployment creation failed. Error: 402. {\"trace\":\"3504868927\",\"errors\":[{\"code\":\"deployments_plan_limit_reached\",\"message\":\"Current plan 'lite' only allows 5 deployments\"}]}",
     "output_type": "error",
     "traceback": [
      "\u001b[0;31m---------------------------------------------------------------------------\u001b[0m",
      "\u001b[0;31mWMLClientError\u001b[0m                            Traceback (most recent call last)",
      "\u001b[0;32m<ipython-input-118-73dc4bb2e05f>\u001b[0m in \u001b[0;36m<module>\u001b[0;34m()\u001b[0m\n\u001b[0;32m----> 1\u001b[0;31m \u001b[0mcreated_deployment\u001b[0m \u001b[0;34m=\u001b[0m \u001b[0mclient\u001b[0m\u001b[0;34m.\u001b[0m\u001b[0mdeployments\u001b[0m\u001b[0;34m.\u001b[0m\u001b[0mcreate\u001b[0m\u001b[0;34m(\u001b[0m\u001b[0mpublished_model_uid\u001b[0m\u001b[0;34m,\u001b[0m \u001b[0mname\u001b[0m\u001b[0;34m=\u001b[0m\u001b[0;34m\"ROI prediction\"\u001b[0m\u001b[0;34m)\u001b[0m\u001b[0;34m\u001b[0m\u001b[0m\n\u001b[0m",
      "\u001b[0;32m~/.local/lib/python3.5/site-packages/watson_machine_learning_client/deployments.py\u001b[0m in \u001b[0;36mcreate\u001b[0;34m(self, artifact_uid, name, description, asynchronous, deployment_type, deployment_format, meta_props, **kwargs)\u001b[0m\n\u001b[1;32m    351\u001b[0m                 \u001b[0mprint\u001b[0m\u001b[0;34m(\u001b[0m\u001b[0mreason\u001b[0m\u001b[0;34m)\u001b[0m\u001b[0;34m\u001b[0m\u001b[0m\n\u001b[1;32m    352\u001b[0m                 \u001b[0mprint_text_header_h2\u001b[0m\u001b[0;34m(\u001b[0m\u001b[0merror_msg\u001b[0m\u001b[0;34m)\u001b[0m\u001b[0;34m\u001b[0m\u001b[0m\n\u001b[0;32m--> 353\u001b[0;31m                 \u001b[0;32mraise\u001b[0m \u001b[0mWMLClientError\u001b[0m\u001b[0;34m(\u001b[0m\u001b[0merror_msg\u001b[0m \u001b[0;34m+\u001b[0m \u001b[0;34m'. Error: '\u001b[0m \u001b[0;34m+\u001b[0m \u001b[0mstr\u001b[0m\u001b[0;34m(\u001b[0m\u001b[0mresponse\u001b[0m\u001b[0;34m.\u001b[0m\u001b[0mstatus_code\u001b[0m\u001b[0;34m)\u001b[0m \u001b[0;34m+\u001b[0m \u001b[0;34m'. '\u001b[0m \u001b[0;34m+\u001b[0m \u001b[0mreason\u001b[0m\u001b[0;34m)\u001b[0m\u001b[0;34m\u001b[0m\u001b[0m\n\u001b[0m\u001b[1;32m    354\u001b[0m \u001b[0;34m\u001b[0m\u001b[0m\n\u001b[1;32m    355\u001b[0m     \u001b[0;32mdef\u001b[0m \u001b[0m_create_online\u001b[0m\u001b[0;34m(\u001b[0m\u001b[0mself\u001b[0m\u001b[0;34m,\u001b[0m \u001b[0mmodel_uid\u001b[0m\u001b[0;34m,\u001b[0m \u001b[0mname\u001b[0m\u001b[0;34m,\u001b[0m \u001b[0mdescription\u001b[0m\u001b[0;34m)\u001b[0m\u001b[0;34m:\u001b[0m\u001b[0;34m\u001b[0m\u001b[0m\n",
      "\u001b[0;31mWMLClientError\u001b[0m: Deployment creation failed. Error: 402. {\"trace\":\"3504868927\",\"errors\":[{\"code\":\"deployments_plan_limit_reached\",\"message\":\"Current plan 'lite' only allows 5 deployments\"}]}"
     ]
    }
   ],
   "source": [
    "created_deployment = client.deployments.create(published_model_uid, name=\"ROI prediction\")\n"
   ]
  },
  {
   "cell_type": "code",
   "execution_count": null,
   "metadata": {},
   "outputs": [],
   "source": [
    "scoring_endpoint = client.deployments.get_scoring_url(created_deployment)\n",
    "\n",
    "print(scoring_endpoint)"
   ]
  },
  {
   "cell_type": "code",
   "execution_count": null,
   "metadata": {},
   "outputs": [],
   "source": [
    "client.deployments.list()"
   ]
  },
  {
   "cell_type": "code",
   "execution_count": null,
   "metadata": {},
   "outputs": [],
   "source": [
    "payload_scoring = {\"fields\": [\"loan_amnt\", \"term\", \"int_rate\", \"installment\", \"emp_length\", \"dti\", \"pub_rec_bankruptcies\", \"log_annual_inc\", \"fico_score\"], \"values\": []}\n"
   ]
  },
  {
   "cell_type": "code",
   "execution_count": null,
   "metadata": {},
   "outputs": [],
   "source": []
  },
  {
   "cell_type": "code",
   "execution_count": null,
   "metadata": {},
   "outputs": [],
   "source": []
  },
  {
   "cell_type": "code",
   "execution_count": null,
   "metadata": {},
   "outputs": [],
   "source": []
  }
 ],
 "metadata": {
  "kernelspec": {
   "display_name": "Python 3.5 with Spark 2.1",
   "language": "python",
   "name": "python3-spark21"
  },
  "language_info": {
   "codemirror_mode": {
    "name": "ipython",
    "version": 3
   },
   "file_extension": ".py",
   "mimetype": "text/x-python",
   "name": "python",
   "nbconvert_exporter": "python",
   "pygments_lexer": "ipython3",
   "version": "3.5.4"
  }
 },
 "nbformat": 4,
 "nbformat_minor": 1
}
